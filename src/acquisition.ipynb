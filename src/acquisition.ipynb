{
 "cells": [
  {
   "cell_type": "code",
   "execution_count": 1,
   "metadata": {},
   "outputs": [],
   "source": [
    "# required imports for `acquisition.py`\n",
    "\n",
    "import pandas as pd\n",
    "import hmac\n",
    "import hashlib\n",
    "import requests\n",
    "from io import StringIO"
   ]
  },
  {
   "cell_type": "code",
   "execution_count": 2,
   "metadata": {},
   "outputs": [
    {
     "name": "stdout",
     "output_type": "stream",
     "text": [
      "NCEI checksum verification passed.\n",
      "\n"
     ]
    }
   ],
   "source": [
    "# NCEI dataset integrity check\n",
    "\n",
    "## opens the verification checksums text file, `checksums.txt`, and reads it\n",
    "with open('../checksums.txt', 'rb') as f:\n",
    "    data = f.read()\n",
    "\n",
    "    ### locates the NCEI checksum and assigns it to variable `checksum_verify`\n",
    "    checksum_verify = str(data.split()[1]).split(\"'\")[1]\n",
    "\n",
    "## fetches the NCEI dataset URL and response\n",
    "url = 'https://www.ncei.noaa.gov/access/monitoring/climate-at-a-glance/statewide/time-series/13/pcp/1/9/1895-2024.csv?base_prd=true&begbaseyear=1901&endbaseyear=2000'\n",
    "response = requests.get(url)\n",
    "\n",
    "## calculates the checksum for the local version of the response\n",
    "checksum = hashlib.sha256(response.text.encode('utf-8')).hexdigest()\n",
    "\n",
    "## checks if the official checksum, `checksum_verify`, is equal to the local checksum\n",
    "if checksum == checksum_verify:\n",
    "\n",
    "    ### if integrity check passes, export raw dataset as `../data/raw/ncei.csv`\n",
    "    print('NCEI checksum verification passed.\\n')\n",
    "    df_ncei = pd.read_csv(StringIO(response.text), skiprows=4)\n",
    "    df_ncei.to_csv('../data/raw/ncei.csv')\n",
    "\n",
    "## if integrity check fails, print failure message\n",
    "else:\n",
    "   print('NCEI checksum verification failed.')"
   ]
  },
  {
   "cell_type": "code",
   "execution_count": 3,
   "metadata": {},
   "outputs": [
    {
     "name": "stdout",
     "output_type": "stream",
     "text": [
      "data.iowa.gov verification passed.\n",
      "\n"
     ]
    },
    {
     "name": "stderr",
     "output_type": "stream",
     "text": [
      "/var/folders/j7/fswh0x992tzfxgs898w7vv9w0000gn/T/ipykernel_21559/1348933834.py:22: DtypeWarning: Columns (17,23,35) have mixed types. Specify dtype option on import or set low_memory=False.\n",
      "  df_iowa = pd.read_csv(StringIO(response.text))\n"
     ]
    }
   ],
   "source": [
    "# Iowa dataset integrity check\n",
    "\n",
    "## opens the verification checksums text file, `checksums.txt`, and reads it\n",
    "with open('../checksums.txt', 'rb') as f:\n",
    "    data = f.read()\n",
    "\n",
    "    ### locates the Iowa checksum and assigns it to variable `checksum_verify`\n",
    "    checksum_verify = str(data.split()[3]).split(\"'\")[1]\n",
    "\n",
    "## queries the data.iowa.gov database, using \".csv?$limit=583174\" to ensure csv format and to export full dataset length and retrieves the response\n",
    "endpoint = 'https://data.iowa.gov/resource/tw78-ziwj.csv?$limit=583174'\n",
    "response = requests.get(endpoint)\n",
    "\n",
    "## calculates the checksum for the local version of the response\n",
    "checksum = hashlib.sha256(response.text.encode('utf-8')).hexdigest()\n",
    "\n",
    "## checks if the official checksum, `checksum_verify`, is equal to the local checksum\n",
    "if checksum == checksum_verify:\n",
    "\n",
    "    ### if integrity check passes, export raw dataset as `../data/raw/iowa.csv`\n",
    "    print('data.iowa.gov verification passed.\\n')\n",
    "    df_iowa = pd.read_csv(StringIO(response.text))\n",
    "    df_iowa.to_csv('../data/raw/iowa.csv')\n",
    "\n",
    "## if integrity check fails, print failure message\n",
    "else:\n",
    "   print('data.iowa.gov checksum verification failed.')"
   ]
  },
  {
   "cell_type": "code",
   "execution_count": 9,
   "metadata": {},
   "outputs": [
    {
     "data": {
      "text/plain": [
       "194391.33333333334"
      ]
     },
     "execution_count": 9,
     "metadata": {},
     "output_type": "execute_result"
    }
   ],
   "source": [
    "len(df_iowa)/3"
   ]
  },
  {
   "cell_type": "code",
   "execution_count": 10,
   "metadata": {},
   "outputs": [
    {
     "data": {
      "text/plain": [
       "388782"
      ]
     },
     "execution_count": 10,
     "metadata": {},
     "output_type": "execute_result"
    }
   ],
   "source": [
    "194391+194391"
   ]
  },
  {
   "cell_type": "code",
   "execution_count": null,
   "metadata": {},
   "outputs": [],
   "source": []
  }
 ],
 "metadata": {
  "kernelspec": {
   "display_name": "base",
   "language": "python",
   "name": "python3"
  },
  "language_info": {
   "codemirror_mode": {
    "name": "ipython",
    "version": 3
   },
   "file_extension": ".py",
   "mimetype": "text/x-python",
   "name": "python",
   "nbconvert_exporter": "python",
   "pygments_lexer": "ipython3",
   "version": "3.12.4"
  }
 },
 "nbformat": 4,
 "nbformat_minor": 2
}
