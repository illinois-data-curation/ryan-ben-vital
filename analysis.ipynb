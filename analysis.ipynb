{
 "cells": [
  {
   "cell_type": "code",
   "execution_count": 4,
   "metadata": {},
   "outputs": [],
   "source": [
    "import pandas as pd\n",
    "import hmac\n",
    "import hashlib\n",
    "import requests\n",
    "from io import StringIO"
   ]
  },
  {
   "cell_type": "code",
   "execution_count": 5,
   "metadata": {},
   "outputs": [],
   "source": [
    "checksums = {'f8cc462996f8c328ec4fad35a842b8e07efa2497b263410ccff7e29429efa586', 'cc72438b990d7dffbfab383c38486696302c8257882524a43bd5845e70cb2447'}"
   ]
  },
  {
   "cell_type": "code",
   "execution_count": 6,
   "metadata": {},
   "outputs": [
    {
     "name": "stdout",
     "output_type": "stream",
     "text": [
      "Checksum verification passed.\n",
      "     Date  Value  Anomaly\n",
      "0  189509   3.12    -0.55\n",
      "1  189609   3.97     0.30\n",
      "2  189709   1.97    -1.70\n",
      "3  189809   2.62    -1.05\n",
      "4  189909   0.96    -2.71\n"
     ]
    }
   ],
   "source": [
    "url = 'https://www.ncei.noaa.gov/access/monitoring/climate-at-a-glance/statewide/time-series/13/pcp/1/9/1895-2024.csv?base_prd=true&begbaseyear=1901&endbaseyear=2000'\n",
    "response = requests.get(url)\n",
    "checksum = hashlib.sha256(response.text.encode('utf-8')).hexdigest()\n",
    "\n",
    "if checksum in checksums:\n",
    "    print('Checksum verification passed.')\n",
    "    df_ncei = pd.read_csv(StringIO(response.text), skiprows=4)\n",
    "    print(df_ncei.head())\n",
    "else:\n",
    "    print('Checum verification failed.')"
   ]
  },
  {
   "cell_type": "code",
   "execution_count": 7,
   "metadata": {},
   "outputs": [
    {
     "name": "stdout",
     "output_type": "stream",
     "text": [
      "Checksum verification passed.\n"
     ]
    },
    {
     "name": "stderr",
     "output_type": "stream",
     "text": [
      "/var/folders/j7/fswh0x992tzfxgs898w7vv9w0000gn/T/ipykernel_4473/898798598.py:7: DtypeWarning: Columns (17,23,35) have mixed types. Specify dtype option on import or set low_memory=False.\n",
      "  df_accidents = pd.read_csv(StringIO(response.text))\n"
     ]
    },
    {
     "name": "stdout",
     "output_type": "stream",
     "text": [
      "   casenumber   lecasenum            date_of_crash month_crash    day_crash  \\\n",
      "0  2014781102   14-000003  2014-01-01T00:00:00.000  01-January  4-Wednesday   \n",
      "1  2014777414  2014000131  2014-01-01T00:00:00.000  01-January  4-Wednesday   \n",
      "2  2014778079  2014000054  2014-01-01T00:00:00.000  01-January  4-Wednesday   \n",
      "3  2014777620   14-000033  2014-01-01T00:00:00.000  01-January  4-Wednesday   \n",
      "4  2014778188  K14-000050  2014-01-01T00:00:00.000  01-January  4-Wednesday   \n",
      "\n",
      "  timestr        hour            dot_district        city_name    county_name  \\\n",
      "0   00:42  0000 Hours    District 1 (Central)             AMES          STORY   \n",
      "1   14:00  1400 Hours  District 4 (Southwest)  WEST DES MOINES         DALLAS   \n",
      "2   09:38  0900 Hours  District 4 (Southwest)              NaN  POTTAWATTAMIE   \n",
      "3   19:03  1900 Hours  District 5 (Southeast)              NaN          HENRY   \n",
      "4   17:11  1700 Hours  District 5 (Southeast)           KEOKUK            LEE   \n",
      "\n",
      "   ... injuries majinjury mininjury possinjury unkinjury propdmg vehicles  \\\n",
      "0  ...        1         0         1          0         0    1700        2   \n",
      "1  ...        0         0         0          0         0    6000        1   \n",
      "2  ...        2         0         2          0         0    8500        2   \n",
      "3  ...        0         0         0          0         0   18455        1   \n",
      "4  ...        1         0         1          0         0    5000        1   \n",
      "\n",
      "  toccupants travel_direction                                  the_geom  \n",
      "0          2              NaN  POINT (-93.650085389426 42.019746031455)  \n",
      "1          1              NaN   POINT (-93.853501370142 41.56922264735)  \n",
      "2          3              NaN  POINT (-95.694943554698 41.357359003605)  \n",
      "3          1              NaN  POINT (-91.541870303864 40.920542082139)  \n",
      "4          1              NaN  POINT (-91.377307414297 40.391136904361)  \n",
      "\n",
      "[5 rows x 37 columns]\n"
     ]
    }
   ],
   "source": [
    "endpoint = 'https://data.iowa.gov/resource/tw78-ziwj.csv?$limit=583174'\n",
    "response = requests.get(endpoint)\n",
    "checksum = hashlib.sha256(response.text.encode('utf-8')).hexdigest()\n",
    "\n",
    "if checksum in checksums:\n",
    "    print('Checksum verification passed.')\n",
    "    df_accidents = pd.read_csv(StringIO(response.text))\n",
    "    print(df_accidents.head())\n",
    "else:\n",
    "    print('Checksum verification failed.')"
   ]
  },
  {
   "cell_type": "code",
   "execution_count": 8,
   "metadata": {},
   "outputs": [],
   "source": [
    "## cleaning df_accidents\n",
    "date_time = pd.to_datetime(df_accidents['date_of_crash'])\n",
    "df_accidents['year'] = date_time.dt.year\n",
    "df_accidents = df_accidents[['year', 'enviro_conditions', 'light_conditions', 'surface_conditions', 'weather_conditions',\n",
    "                             'crash_severity', 'fatalities', 'injuries', 'majinjury', 'mininjury', 'possinjury', 'unkinjury', 'propdmg']]\n",
    "\n",
    "## cleaning df_ncei\n",
    "df_ncei['year'] = df_ncei['Date'].apply(lambda x: int(str(x)[:4]))\n",
    "df_ncei.rename(columns={'Value':'precipitation'}, inplace=True)\n",
    "df_ncei = df_ncei[['year', 'precipitation']]"
   ]
  },
  {
   "cell_type": "code",
   "execution_count": null,
   "metadata": {},
   "outputs": [],
   "source": []
  }
 ],
 "metadata": {
  "kernelspec": {
   "display_name": "base",
   "language": "python",
   "name": "python3"
  },
  "language_info": {
   "codemirror_mode": {
    "name": "ipython",
    "version": 3
   },
   "file_extension": ".py",
   "mimetype": "text/x-python",
   "name": "python",
   "nbconvert_exporter": "python",
   "pygments_lexer": "ipython3",
   "version": "3.12.4"
  }
 },
 "nbformat": 4,
 "nbformat_minor": 2
}
