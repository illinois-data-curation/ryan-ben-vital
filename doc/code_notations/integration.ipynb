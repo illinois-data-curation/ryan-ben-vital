{
 "cells": [
  {
   "cell_type": "markdown",
   "metadata": {},
   "source": [
    "# **Integration**\n",
    "\n",
    "(For code descriptions only -- not intended to be run.)"
   ]
  },
  {
   "cell_type": "markdown",
   "metadata": {},
   "source": [
    "## Imports"
   ]
  },
  {
   "cell_type": "code",
   "execution_count": 1,
   "metadata": {},
   "outputs": [],
   "source": [
    "import pandas as pd\n",
    "import hashlib\n",
    "import requests\n",
    "import os \n",
    "from io import StringIO"
   ]
  },
  {
   "cell_type": "markdown",
   "metadata": {},
   "source": [
    "## Dataframe Creation"
   ]
  },
  {
   "cell_type": "code",
   "execution_count": null,
   "metadata": {},
   "outputs": [
    {
     "name": "stderr",
     "output_type": "stream",
     "text": [
      "/var/folders/j7/fswh0x992tzfxgs898w7vv9w0000gn/T/ipykernel_7795/3797229930.py:2: DtypeWarning: Columns (17,23,35) have mixed types. Specify dtype option on import or set low_memory=False.\n",
      "  df1 = pd.read_csv('../../data/raw/iowa1.csv')\n"
     ]
    }
   ],
   "source": [
    "## reads raw Iowa datasets into separate dataframes\n",
    "df1 = pd.read_csv('../data/raw/iowa1.csv')\n",
    "df2 = pd.read_csv('../data/raw/iowa2.csv')\n",
    "df3 = pd.read_csv('../data/raw/iowa3.csv')\n",
    "\n",
    "## combines all Iowa dataframes into one, singular dataframe\n",
    "df_accidents = pd.concat([df1, df2, df3], ignore_index=True)\n",
    "\n",
    "## reads raw NCEI dataset into a dataframe\n",
    "df_ncei = pd.read_csv('../data/raw/ncei.csv')"
   ]
  },
  {
   "cell_type": "markdown",
   "metadata": {},
   "source": [
    "## Dataframe Modification"
   ]
  },
  {
   "cell_type": "code",
   "execution_count": null,
   "metadata": {},
   "outputs": [],
   "source": [
    "## converts `date_of_crash` column to datetime\n",
    "date_time = pd.to_datetime(df_accidents['date_of_crash'])\n",
    "df_accidents['year'] = date_time.dt.year\n",
    "\n",
    "## filters `df_accidents` to columns of interest\n",
    "df_accidents = df_accidents[[\n",
    "    'year', 'enviro_conditions', 'surface_conditions', 'weather_conditions',\n",
    "    'crash_severity', 'fatalities', 'injuries', 'majinjury', 'mininjury',\n",
    "    'possinjury', 'unkinjury', 'propdmg'\n",
    "]]\n",
    "\n",
    "## converts `Unknown` values to NaN\n",
    "df_accidents['enviro_conditions'] = df_accidents['enviro_conditions'].fillna('Unknown')\n",
    "df_accidents['surface_conditions'] = df_accidents['surface_conditions'].fillna('Unknown')\n",
    "\n",
    "## filters `df_accidents` to observations of interest (wet weather conditions)\n",
    "df_accidents_filtered = df_accidents[\n",
    "    ((df_accidents['weather_conditions'] == 'Rain') | \n",
    "    (df_accidents['weather_conditions'] == 'Sleet, hail') | \n",
    "    (df_accidents['weather_conditions'] == 'Freezing rain/drizzle')) & \n",
    "    ((df_accidents['surface_conditions'] == 'Wet') | \n",
    "    (df_accidents['surface_conditions'] == 'Unknown'))\n",
    "]\n",
    "\n",
    "## converts `year` column to datetime\n",
    "df_ncei['year'] = df_ncei['Date'].apply(lambda x: int(str(x)[:4]))\n",
    "df_ncei.rename(columns={'Value': 'precipitation'}, inplace=True)\n",
    "df_ncei = df_ncei[['year', 'precipitation']]\n",
    "df_ncei['year'] = df_ncei['year'].astype(int)\n",
    "df_ncei = df_ncei[df_ncei['year'] >= 2014]"
   ]
  },
  {
   "cell_type": "markdown",
   "metadata": {},
   "source": [
    "## Data Integration"
   ]
  },
  {
   "cell_type": "code",
   "execution_count": null,
   "metadata": {},
   "outputs": [],
   "source": [
    "## creates processed dataframe and exports it as `../data/processed/integrated.csv`\n",
    "yearly_counts = {'year': [], 'count': []}\n",
    "current_year = None\n",
    "count = 0\n",
    "\n",
    "for index, row in df_accidents_filtered.iterrows():\n",
    "    if row['year'] == current_year:\n",
    "        count += 1\n",
    "    else:\n",
    "        if current_year is not None:\n",
    "            yearly_counts['year'].append(current_year)\n",
    "            yearly_counts['count'].append(count)\n",
    "        current_year = row['year']\n",
    "        count = 1\n",
    "\n",
    "yearly_counts['year'].append(current_year)\n",
    "yearly_counts['count'].append(count)\n",
    "\n",
    "yearly_counts_df = pd.DataFrame(yearly_counts)\n",
    "\n",
    "df_grouped = df_accidents_filtered.groupby(['year']).sum().reset_index()\n",
    "df_merged = pd.merge(df_ncei, df_grouped, on='year', how='inner')\n",
    "df_merged = pd.merge(yearly_counts_df, df_merged, on='year', how='inner')\n",
    "df_merged = df_merged[['year', 'precipitation', 'count', 'fatalities', 'injuries', 'majinjury', 'mininjury', 'possinjury', 'unkinjury', 'propdmg']]\n",
    "\n",
    "df_merged.to_csv('../data/processed/integrated.csv', index=False)"
   ]
  }
 ],
 "metadata": {
  "kernelspec": {
   "display_name": "base",
   "language": "python",
   "name": "python3"
  },
  "language_info": {
   "codemirror_mode": {
    "name": "ipython",
    "version": 3
   },
   "file_extension": ".py",
   "mimetype": "text/x-python",
   "name": "python",
   "nbconvert_exporter": "python",
   "pygments_lexer": "ipython3",
   "version": "3.12.4"
  }
 },
 "nbformat": 4,
 "nbformat_minor": 2
}
